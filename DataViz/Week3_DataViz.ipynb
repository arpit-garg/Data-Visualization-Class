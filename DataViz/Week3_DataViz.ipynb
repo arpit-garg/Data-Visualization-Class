{
 "cells": [
  {
   "cell_type": "markdown",
   "metadata": {},
   "source": []
  },
  {
   "cell_type": "code",
   "execution_count": 1,
   "metadata": {
    "collapsed": true
   },
   "outputs": [],
   "source": [
    "def mult_by_two(a ):\n",
    "    return a * 2"
   ]
  },
  {
   "cell_type": "code",
   "execution_count": 2,
   "metadata": {
    "collapsed": false
   },
   "outputs": [
    {
     "data": {
      "text/plain": [
       "200"
      ]
     },
     "execution_count": 2,
     "metadata": {},
     "output_type": "execute_result"
    }
   ],
   "source": [
    "mult_by_two(100)"
   ]
  },
  {
   "cell_type": "code",
   "execution_count": 3,
   "metadata": {
    "collapsed": true
   },
   "outputs": [],
   "source": [
    "b = [1,2,3,4,5,6,7,8,9,10]"
   ]
  },
  {
   "cell_type": "code",
   "execution_count": 4,
   "metadata": {
    "collapsed": false
   },
   "outputs": [
    {
     "data": {
      "text/plain": [
       "[1, 2, 3, 4, 5, 6, 7, 8, 9, 10, 1, 2, 3, 4, 5, 6, 7, 8, 9, 10]"
      ]
     },
     "execution_count": 4,
     "metadata": {},
     "output_type": "execute_result"
    }
   ],
   "source": [
    "mult_by_two(b)"
   ]
  },
  {
   "cell_type": "code",
   "execution_count": 5,
   "metadata": {
    "collapsed": false
   },
   "outputs": [
    {
     "data": {
      "text/plain": [
       "array([ 2,  4,  6,  8, 10, 12, 14, 16, 18, 20])"
      ]
     },
     "execution_count": 5,
     "metadata": {},
     "output_type": "execute_result"
    }
   ],
   "source": [
    "import numpy as np\n",
    "c = np.array(b)\n",
    "mult_by_two(c)"
   ]
  },
  {
   "cell_type": "code",
   "execution_count": 6,
   "metadata": {
    "collapsed": false
   },
   "outputs": [
    {
     "data": {
      "text/plain": [
       "array([0, 1, 1, 2, 2, 3, 3, 4, 4, 5])"
      ]
     },
     "execution_count": 6,
     "metadata": {},
     "output_type": "execute_result"
    }
   ],
   "source": [
    "c/2"
   ]
  },
  {
   "cell_type": "code",
   "execution_count": 7,
   "metadata": {
    "collapsed": false
   },
   "outputs": [
    {
     "ename": "TypeError",
     "evalue": "unsupported operand type(s) for /: 'list' and 'int'",
     "output_type": "error",
     "traceback": [
      "\u001b[0;31m---------------------------------------------------------------------------\u001b[0m",
      "\u001b[0;31mTypeError\u001b[0m                                 Traceback (most recent call last)",
      "\u001b[0;32m<ipython-input-7-71c3bb63348b>\u001b[0m in \u001b[0;36m<module>\u001b[0;34m()\u001b[0m\n\u001b[0;32m----> 1\u001b[0;31m \u001b[0mb\u001b[0m\u001b[0;34m/\u001b[0m\u001b[0;36m2\u001b[0m\u001b[0;34m\u001b[0m\u001b[0m\n\u001b[0m",
      "\u001b[0;31mTypeError\u001b[0m: unsupported operand type(s) for /: 'list' and 'int'"
     ]
    }
   ],
   "source": [
    "b/2"
   ]
  },
  {
   "cell_type": "code",
   "execution_count": 8,
   "metadata": {
    "collapsed": true
   },
   "outputs": [],
   "source": [
    "def mult_by_3(a):\n",
    "    a*=a"
   ]
  },
  {
   "cell_type": "code",
   "execution_count": 9,
   "metadata": {
    "collapsed": true
   },
   "outputs": [],
   "source": [
    "mult_by_3(100)"
   ]
  },
  {
   "cell_type": "code",
   "execution_count": 10,
   "metadata": {
    "collapsed": true
   },
   "outputs": [],
   "source": [
    "mult_by_3(c)"
   ]
  },
  {
   "cell_type": "code",
   "execution_count": 11,
   "metadata": {
    "collapsed": false
   },
   "outputs": [
    {
     "data": {
      "text/plain": [
       "array([  1,   4,   9,  16,  25,  36,  49,  64,  81, 100])"
      ]
     },
     "execution_count": 11,
     "metadata": {},
     "output_type": "execute_result"
    }
   ],
   "source": [
    "c"
   ]
  },
  {
   "cell_type": "markdown",
   "metadata": {},
   "source": [
    "Side effect of functions in multiplying "
   ]
  },
  {
   "cell_type": "code",
   "execution_count": 12,
   "metadata": {
    "collapsed": true
   },
   "outputs": [],
   "source": [
    "import csv"
   ]
  },
  {
   "cell_type": "code",
   "execution_count": 13,
   "metadata": {
    "collapsed": false
   },
   "outputs": [
    {
     "data": {
      "text/plain": [
       "u'/Users/arpitgarg'"
      ]
     },
     "execution_count": 13,
     "metadata": {},
     "output_type": "execute_result"
    }
   ],
   "source": [
    "pwd"
   ]
  },
  {
   "cell_type": "code",
   "execution_count": 17,
   "metadata": {
    "collapsed": false
   },
   "outputs": [
    {
     "name": "stdout",
     "output_type": "stream",
     "text": [
      "/Users/arpitgarg/Desktop/UIUC/MSIM/Fall_2017/DataViz\n"
     ]
    }
   ],
   "source": [
    "cd Desktop/UIUC/MSIM/Fall_2017/DataViz/"
   ]
  },
  {
   "cell_type": "code",
   "execution_count": 16,
   "metadata": {
    "collapsed": false
   },
   "outputs": [
    {
     "data": {
      "text/plain": [
       "u'/Users/arpitgarg'"
      ]
     },
     "execution_count": 16,
     "metadata": {},
     "output_type": "execute_result"
    }
   ],
   "source": [
    "pwd"
   ]
  },
  {
   "cell_type": "code",
   "execution_count": 18,
   "metadata": {
    "collapsed": false
   },
   "outputs": [
    {
     "name": "stdout",
     "output_type": "stream",
     "text": [
      "\u001b[34mWeek 2\u001b[m\u001b[m/\r\n",
      "Week 2.zip\r\n",
      "Week2_InClassExercises.ipynb\r\n",
      "hexbin_demo.py\r\n",
      "hist2d_demo.py\r\n",
      "histogram_demo_features.py\r\n",
      "\u001b[34mlis590dv-spring2017-assignment-1-arpit-garg\u001b[m\u001b[m/\r\n",
      "scatter_demo.py\r\n"
     ]
    }
   ],
   "source": [
    "ls"
   ]
  },
  {
   "cell_type": "code",
   "execution_count": 19,
   "metadata": {
    "collapsed": false
   },
   "outputs": [
    {
     "name": "stdout",
     "output_type": "stream",
     "text": [
      "/Users/arpitgarg/Desktop/UIUC/MSIM/Fall_2017/DataViz/Week 2\n"
     ]
    }
   ],
   "source": [
    "cd Week\\ 2"
   ]
  },
  {
   "cell_type": "code",
   "execution_count": 23,
   "metadata": {
    "collapsed": false
   },
   "outputs": [],
   "source": [
    "data ={}\n",
    "with open(\"Building_Inventory.csv\", \"r\") as f:\n",
    "    reader = csv.reader(f)\n",
    "    header = next(reader)\n",
    "    for k in header:\n",
    "        data[k] = []\n",
    "    for row in reader:\n",
    "        for k,v in zip(header, row):\n",
    "            data[k].append(v)"
   ]
  },
  {
   "cell_type": "code",
   "execution_count": 24,
   "metadata": {
    "collapsed": false
   },
   "outputs": [
    {
     "data": {
      "text/plain": [
       "['144',\n",
       " '144',\n",
       " '144',\n",
       " '144',\n",
       " '144',\n",
       " '144',\n",
       " '120',\n",
       " '120',\n",
       " '144',\n",
       " '144',\n",
       " '144',\n",
       " '144',\n",
       " '96',\n",
       " '625',\n",
       " '144',\n",
       " '144',\n",
       " '740',\n",
       " '320',\n",
       " '144',\n",
       " '625',\n",
       " '144',\n",
       " '144',\n",
       " '2000',\n",
       " '2048',\n",
       " '22000',\n",
       " '120',\n",
       " '4860',\n",
       " '156',\n",
       " '1080',\n",
       " '2020',\n",
       " '3360',\n",
       " '1800',\n",
       " '25000',\n",
       " '11000',\n",
       " '10000',\n",
       " '1400',\n",
       " '183175',\n",
       " '220',\n",
       " '220',\n",
       " '220',\n",
       " '220',\n",
       " '220',\n",
       " '220',\n",
       " '220',\n",
       " '220',\n",
       " '1625',\n",
       " '144',\n",
       " '144',\n",
       " '144',\n",
       " '144',\n",
       " '144',\n",
       " '144',\n",
       " '144',\n",
       " '144',\n",
       " '144',\n",
       " '540',\n",
       " '14900',\n",
       " '21100',\n",
       " '2160',\n",
       " '1540',\n",
       " '900',\n",
       " '16280',\n",
       " '240',\n",
       " '504',\n",
       " '82500',\n",
       " '2960',\n",
       " '2560',\n",
       " '288',\n",
       " '10972',\n",
       " '875',\n",
       " '153',\n",
       " '216',\n",
       " '90',\n",
       " '0',\n",
       " '1536',\n",
       " '0',\n",
       " '90',\n",
       " '2304',\n",
       " '3528',\n",
       " '90',\n",
       " '15000',\n",
       " '1564',\n",
       " '1684',\n",
       " '3030',\n",
       " '220',\n",
       " '220',\n",
       " '220',\n",
       " '3260',\n",
       " '144',\n",
       " '1903',\n",
       " '100000',\n",
       " '99800',\n",
       " '45514',\n",
       " '150',\n",
       " '144',\n",
       " '1600',\n",
       " '32351',\n",
       " '729',\n",
       " '700',\n",
       " '2000',\n",
       " '3520',\n",
       " '100',\n",
       " '600',\n",
       " '540',\n",
       " '144',\n",
       " '90',\n",
       " '320',\n",
       " '960',\n",
       " '12000',\n",
       " '18500',\n",
       " '120',\n",
       " '4032',\n",
       " '48000',\n",
       " '12800',\n",
       " '15000',\n",
       " '1294',\n",
       " '144',\n",
       " '3604',\n",
       " '2580',\n",
       " '4184',\n",
       " '2875',\n",
       " '558',\n",
       " '660',\n",
       " '192',\n",
       " '72',\n",
       " '24',\n",
       " '24',\n",
       " '24',\n",
       " '24',\n",
       " '24',\n",
       " '24',\n",
       " '24',\n",
       " '24',\n",
       " '24',\n",
       " '24',\n",
       " '24',\n",
       " '24',\n",
       " '375',\n",
       " '3500',\n",
       " '3000',\n",
       " '560',\n",
       " '1152',\n",
       " '19700',\n",
       " '150000',\n",
       " '2068',\n",
       " '100',\n",
       " '1768',\n",
       " '1646',\n",
       " '22000',\n",
       " '2700',\n",
       " '2000',\n",
       " '1800',\n",
       " '267',\n",
       " '150',\n",
       " '144',\n",
       " '1440',\n",
       " '768',\n",
       " '1420',\n",
       " '144',\n",
       " '3265',\n",
       " '710',\n",
       " '4800',\n",
       " '700',\n",
       " '960',\n",
       " '700',\n",
       " '700',\n",
       " '700',\n",
       " '170',\n",
       " '3300',\n",
       " '2700',\n",
       " '2447',\n",
       " '22960',\n",
       " '100',\n",
       " '24910',\n",
       " '375',\n",
       " '144',\n",
       " '144',\n",
       " '3220',\n",
       " '10800',\n",
       " '0',\n",
       " '665',\n",
       " '700',\n",
       " '2400',\n",
       " '4500',\n",
       " '3024',\n",
       " '6300',\n",
       " '120',\n",
       " '3500',\n",
       " '300',\n",
       " '144',\n",
       " '144',\n",
       " '13300',\n",
       " '720',\n",
       " '2400',\n",
       " '36',\n",
       " '36',\n",
       " '36',\n",
       " '36',\n",
       " '36',\n",
       " '36',\n",
       " '616',\n",
       " '36',\n",
       " '36',\n",
       " '36',\n",
       " '36',\n",
       " '36',\n",
       " '36',\n",
       " '672',\n",
       " '2260',\n",
       " '1800',\n",
       " '1400',\n",
       " '96',\n",
       " '144',\n",
       " '144',\n",
       " '144',\n",
       " '144',\n",
       " '456',\n",
       " '2400',\n",
       " '1400',\n",
       " '1761',\n",
       " '2159',\n",
       " '308',\n",
       " '9221',\n",
       " '296',\n",
       " '360',\n",
       " '360',\n",
       " '666',\n",
       " '3039',\n",
       " '360',\n",
       " '360',\n",
       " '360',\n",
       " '360',\n",
       " '360',\n",
       " '360',\n",
       " '360',\n",
       " '360',\n",
       " '5000',\n",
       " '234',\n",
       " '568',\n",
       " '777',\n",
       " '2418',\n",
       " '8916',\n",
       " '18070',\n",
       " '430',\n",
       " '516',\n",
       " '2609',\n",
       " '13621',\n",
       " '14043',\n",
       " '1665',\n",
       " '4464',\n",
       " '514',\n",
       " '398',\n",
       " '899',\n",
       " '81',\n",
       " '629',\n",
       " '227',\n",
       " '1563',\n",
       " '82',\n",
       " '69',\n",
       " '584',\n",
       " '702',\n",
       " '3186',\n",
       " '2762',\n",
       " '2232',\n",
       " '2583',\n",
       " '625',\n",
       " '2013',\n",
       " '678',\n",
       " '748',\n",
       " '827',\n",
       " '307',\n",
       " '300',\n",
       " '300',\n",
       " '300',\n",
       " '5970',\n",
       " '771',\n",
       " '259',\n",
       " '259',\n",
       " '342',\n",
       " '259',\n",
       " '308',\n",
       " '250',\n",
       " '720',\n",
       " '4793',\n",
       " '82',\n",
       " '4471',\n",
       " '650',\n",
       " '540',\n",
       " '3225',\n",
       " '360',\n",
       " '360',\n",
       " '360',\n",
       " '360',\n",
       " '276',\n",
       " '4705',\n",
       " '64',\n",
       " '4589',\n",
       " '6041',\n",
       " '7840',\n",
       " '632',\n",
       " '1312',\n",
       " '144',\n",
       " '144',\n",
       " '1860',\n",
       " '140',\n",
       " '126',\n",
       " '1860',\n",
       " '300',\n",
       " '120',\n",
       " '20',\n",
       " '144',\n",
       " '144',\n",
       " '144',\n",
       " '144',\n",
       " '144',\n",
       " '144',\n",
       " '144',\n",
       " '144',\n",
       " '144',\n",
       " '144',\n",
       " '144',\n",
       " '144',\n",
       " '144',\n",
       " '144',\n",
       " '144',\n",
       " '144',\n",
       " '144',\n",
       " '144',\n",
       " '20',\n",
       " '100',\n",
       " '240',\n",
       " '768',\n",
       " '6300',\n",
       " '0',\n",
       " '6528',\n",
       " '2376',\n",
       " '33750',\n",
       " '23425',\n",
       " '1436',\n",
       " '33000',\n",
       " '3200',\n",
       " '20250',\n",
       " '10923',\n",
       " '8450',\n",
       " '9600',\n",
       " '5863',\n",
       " '1000',\n",
       " '1512',\n",
       " '5030',\n",
       " '1392',\n",
       " '720',\n",
       " '336',\n",
       " '704',\n",
       " '2910',\n",
       " '2000',\n",
       " '3264',\n",
       " '3528',\n",
       " '12624',\n",
       " '12059',\n",
       " '5695',\n",
       " '5655',\n",
       " '10044',\n",
       " '4896',\n",
       " '14028',\n",
       " '108214',\n",
       " '7434',\n",
       " '4600',\n",
       " '1395',\n",
       " '6286',\n",
       " '2406',\n",
       " '154000',\n",
       " '4500',\n",
       " '6640',\n",
       " '64',\n",
       " '108',\n",
       " '1600',\n",
       " '105',\n",
       " '105',\n",
       " '105',\n",
       " '105',\n",
       " '105',\n",
       " '1650',\n",
       " '24980',\n",
       " '16300',\n",
       " '576',\n",
       " '432',\n",
       " '432',\n",
       " '1176',\n",
       " '400',\n",
       " '51450',\n",
       " '950',\n",
       " '950',\n",
       " '575',\n",
       " '64',\n",
       " '1080',\n",
       " '560',\n",
       " '560',\n",
       " '144',\n",
       " '144',\n",
       " '144',\n",
       " '144',\n",
       " '144',\n",
       " '144',\n",
       " '144',\n",
       " '144',\n",
       " '144',\n",
       " '144',\n",
       " '144',\n",
       " '100',\n",
       " '1100',\n",
       " '468',\n",
       " '14527',\n",
       " '1960',\n",
       " '1280',\n",
       " '2922',\n",
       " '1300',\n",
       " '684',\n",
       " '140000',\n",
       " '140000',\n",
       " '22000',\n",
       " '0',\n",
       " '0',\n",
       " '42082',\n",
       " '119700',\n",
       " '25000',\n",
       " '16719',\n",
       " '899',\n",
       " '2000',\n",
       " '1400',\n",
       " '144',\n",
       " '500',\n",
       " '8920',\n",
       " '4900',\n",
       " '720',\n",
       " '212',\n",
       " '212',\n",
       " '212',\n",
       " '5760',\n",
       " '5760',\n",
       " '720',\n",
       " '120',\n",
       " '144',\n",
       " '150',\n",
       " '150',\n",
       " '150',\n",
       " '120',\n",
       " '120',\n",
       " '100',\n",
       " '306',\n",
       " '190',\n",
       " '1958',\n",
       " '68',\n",
       " '12',\n",
       " '2700',\n",
       " '3150',\n",
       " '19500',\n",
       " '30',\n",
       " '1200',\n",
       " '600',\n",
       " '1500',\n",
       " '1050',\n",
       " '1875',\n",
       " '2100',\n",
       " '864',\n",
       " '768',\n",
       " '360',\n",
       " '336',\n",
       " '336',\n",
       " '336',\n",
       " '336',\n",
       " '336',\n",
       " '336',\n",
       " '336',\n",
       " '336',\n",
       " '25',\n",
       " '25',\n",
       " '144',\n",
       " '2112',\n",
       " '150',\n",
       " '150',\n",
       " '320',\n",
       " '320',\n",
       " '865',\n",
       " '150',\n",
       " '150',\n",
       " '150',\n",
       " '150',\n",
       " '150',\n",
       " '150',\n",
       " '150',\n",
       " '150',\n",
       " '16',\n",
       " '100',\n",
       " '176',\n",
       " '25',\n",
       " '25',\n",
       " '784',\n",
       " '144',\n",
       " '100',\n",
       " '150',\n",
       " '150',\n",
       " '150',\n",
       " '560',\n",
       " '560',\n",
       " '176',\n",
       " '100',\n",
       " '0',\n",
       " '560',\n",
       " '150',\n",
       " '5400',\n",
       " '1444',\n",
       " '100',\n",
       " '675',\n",
       " '600',\n",
       " '535',\n",
       " '500',\n",
       " '1200',\n",
       " '1200',\n",
       " '1200',\n",
       " '1200',\n",
       " '1200',\n",
       " '1200',\n",
       " '560',\n",
       " '560',\n",
       " '560',\n",
       " '560',\n",
       " '1800',\n",
       " '144',\n",
       " '675',\n",
       " '640',\n",
       " '2450',\n",
       " '460',\n",
       " '240',\n",
       " '2048',\n",
       " '2250',\n",
       " '225',\n",
       " '592',\n",
       " '432',\n",
       " '1656',\n",
       " '0',\n",
       " '118200',\n",
       " '3000',\n",
       " '300',\n",
       " '400',\n",
       " '2331',\n",
       " '3364',\n",
       " '900',\n",
       " '88',\n",
       " '96',\n",
       " '580',\n",
       " '0',\n",
       " '0',\n",
       " '50840',\n",
       " '34014',\n",
       " '6000',\n",
       " '2500',\n",
       " '104',\n",
       " '2000',\n",
       " '2000',\n",
       " '400',\n",
       " '400',\n",
       " '144',\n",
       " '144',\n",
       " '144',\n",
       " '144',\n",
       " '144',\n",
       " '144',\n",
       " '144',\n",
       " '144',\n",
       " '144',\n",
       " '144',\n",
       " '144',\n",
       " '96',\n",
       " '1300',\n",
       " '2922',\n",
       " '1200',\n",
       " '936',\n",
       " '180000',\n",
       " '627',\n",
       " '112',\n",
       " '18',\n",
       " '18',\n",
       " '1200',\n",
       " '400',\n",
       " '500',\n",
       " '172000',\n",
       " '3200',\n",
       " '3024',\n",
       " '338',\n",
       " '1916',\n",
       " '512',\n",
       " '26875',\n",
       " '14262',\n",
       " '24338',\n",
       " '24338',\n",
       " '19410',\n",
       " '19410',\n",
       " '7100',\n",
       " '144',\n",
       " '144',\n",
       " '144',\n",
       " '144',\n",
       " '144',\n",
       " '144',\n",
       " '144',\n",
       " '140000',\n",
       " '195',\n",
       " '195',\n",
       " '195',\n",
       " '384',\n",
       " '144',\n",
       " '144',\n",
       " '144',\n",
       " '560',\n",
       " '570',\n",
       " '144',\n",
       " '144',\n",
       " '144',\n",
       " '144',\n",
       " '144',\n",
       " '144',\n",
       " '144',\n",
       " '144',\n",
       " '144',\n",
       " '144',\n",
       " '144',\n",
       " '144',\n",
       " '144',\n",
       " '144',\n",
       " '144',\n",
       " '144',\n",
       " '144',\n",
       " '144',\n",
       " '150',\n",
       " '1953',\n",
       " '2928',\n",
       " '2928',\n",
       " '1440',\n",
       " '4070',\n",
       " '6348',\n",
       " '4956',\n",
       " '96',\n",
       " '6880',\n",
       " '5172',\n",
       " '6613',\n",
       " '2100',\n",
       " '1760',\n",
       " '34',\n",
       " '500',\n",
       " '500',\n",
       " '200',\n",
       " '4300',\n",
       " '2700',\n",
       " '4200',\n",
       " '4300',\n",
       " '1500',\n",
       " '4000',\n",
       " '500',\n",
       " '3500',\n",
       " '4900',\n",
       " '4500',\n",
       " '1200',\n",
       " '1200',\n",
       " '2000',\n",
       " '2400',\n",
       " '1593',\n",
       " '3306',\n",
       " '3072',\n",
       " '128',\n",
       " '144',\n",
       " '12200',\n",
       " '2390',\n",
       " '864',\n",
       " '576',\n",
       " '560',\n",
       " '560',\n",
       " '1342',\n",
       " '480',\n",
       " '104',\n",
       " '104',\n",
       " '104',\n",
       " '104',\n",
       " '104',\n",
       " '104',\n",
       " '104',\n",
       " '104',\n",
       " '104',\n",
       " '104',\n",
       " '104',\n",
       " '104',\n",
       " '104',\n",
       " '104',\n",
       " '104',\n",
       " '104',\n",
       " '3000',\n",
       " '2400',\n",
       " '320',\n",
       " '14470',\n",
       " '7800',\n",
       " '1440',\n",
       " '64',\n",
       " '108',\n",
       " '515',\n",
       " '515',\n",
       " '520',\n",
       " '6016',\n",
       " '144',\n",
       " '144',\n",
       " '144',\n",
       " '144',\n",
       " '144',\n",
       " '144',\n",
       " '320',\n",
       " '130',\n",
       " '672',\n",
       " '1258',\n",
       " '630',\n",
       " '630',\n",
       " '630',\n",
       " '1258',\n",
       " '630',\n",
       " '630',\n",
       " '630',\n",
       " '630',\n",
       " '560',\n",
       " '1258',\n",
       " '1229',\n",
       " '1229',\n",
       " '1229',\n",
       " '3380',\n",
       " '45000',\n",
       " '43280',\n",
       " '3000',\n",
       " '3600',\n",
       " '3384',\n",
       " '1872',\n",
       " '1224',\n",
       " '2474',\n",
       " '12000',\n",
       " '144',\n",
       " '144',\n",
       " '144',\n",
       " '144',\n",
       " '144',\n",
       " '144',\n",
       " '144',\n",
       " '1080',\n",
       " '560',\n",
       " '1867',\n",
       " '132',\n",
       " '106',\n",
       " '4032',\n",
       " '144',\n",
       " '144',\n",
       " '144',\n",
       " '80',\n",
       " '80',\n",
       " '17300',\n",
       " '15000',\n",
       " '80',\n",
       " '80',\n",
       " '80',\n",
       " '4521',\n",
       " '4521',\n",
       " '4521',\n",
       " '4780',\n",
       " '2400',\n",
       " '4073',\n",
       " '62338',\n",
       " '5200',\n",
       " '104',\n",
       " '70',\n",
       " '70',\n",
       " '70',\n",
       " '70',\n",
       " '70',\n",
       " '144',\n",
       " '144',\n",
       " '144',\n",
       " '768',\n",
       " '452',\n",
       " '441',\n",
       " '380',\n",
       " '50',\n",
       " '50',\n",
       " '50',\n",
       " '50',\n",
       " '50',\n",
       " '144',\n",
       " '144',\n",
       " '30000',\n",
       " '7200',\n",
       " '3300',\n",
       " '48000',\n",
       " '144',\n",
       " '144',\n",
       " '144',\n",
       " '2922',\n",
       " '2922',\n",
       " '4072',\n",
       " '420',\n",
       " '3200',\n",
       " '112',\n",
       " '0',\n",
       " '800',\n",
       " '360',\n",
       " '275',\n",
       " '50000',\n",
       " '104',\n",
       " '104',\n",
       " '104',\n",
       " '144',\n",
       " '8300',\n",
       " '400',\n",
       " '8300',\n",
       " '1200',\n",
       " '104',\n",
       " '3790',\n",
       " '144',\n",
       " '144',\n",
       " '144',\n",
       " '144',\n",
       " '144',\n",
       " '144',\n",
       " '144',\n",
       " '144',\n",
       " '144',\n",
       " '144',\n",
       " '144',\n",
       " '144',\n",
       " '144',\n",
       " '144',\n",
       " '144',\n",
       " '144',\n",
       " '750',\n",
       " '150',\n",
       " '244705',\n",
       " '1680',\n",
       " '104',\n",
       " '104',\n",
       " '104',\n",
       " '104',\n",
       " '104',\n",
       " '3072',\n",
       " '9960',\n",
       " '144',\n",
       " '144',\n",
       " '144',\n",
       " '800',\n",
       " '10400',\n",
       " '240',\n",
       " '75',\n",
       " '75',\n",
       " '75',\n",
       " '75',\n",
       " '75',\n",
       " '75',\n",
       " '75',\n",
       " '75',\n",
       " '75',\n",
       " '75',\n",
       " '75',\n",
       " '75',\n",
       " '75',\n",
       " '75',\n",
       " '75',\n",
       " '75',\n",
       " '75',\n",
       " '75',\n",
       " '75',\n",
       " '75',\n",
       " '75',\n",
       " '75',\n",
       " '75',\n",
       " '75',\n",
       " '75',\n",
       " '75',\n",
       " '75',\n",
       " '75',\n",
       " '75',\n",
       " '75',\n",
       " '75',\n",
       " '75',\n",
       " '75',\n",
       " '75',\n",
       " '75',\n",
       " '75',\n",
       " '75',\n",
       " '75',\n",
       " '75',\n",
       " '75',\n",
       " '75',\n",
       " '75',\n",
       " '75',\n",
       " '75',\n",
       " '75',\n",
       " '75',\n",
       " '75',\n",
       " '75',\n",
       " '75',\n",
       " '75',\n",
       " '75',\n",
       " '75',\n",
       " '75',\n",
       " '75',\n",
       " '75',\n",
       " '75',\n",
       " '75',\n",
       " '75',\n",
       " '75',\n",
       " '75',\n",
       " '75',\n",
       " '75',\n",
       " '75',\n",
       " '75',\n",
       " '75',\n",
       " '75',\n",
       " '75',\n",
       " '75',\n",
       " '75',\n",
       " '75',\n",
       " '49700',\n",
       " '2150',\n",
       " '21990',\n",
       " '9600',\n",
       " '9600',\n",
       " '9600',\n",
       " '9600',\n",
       " '9600',\n",
       " '4600',\n",
       " '290',\n",
       " '700',\n",
       " '700',\n",
       " '700',\n",
       " '700',\n",
       " '700',\n",
       " '700',\n",
       " '700',\n",
       " '700',\n",
       " '700',\n",
       " '700',\n",
       " '700',\n",
       " '700',\n",
       " '700',\n",
       " '700',\n",
       " '700',\n",
       " '700',\n",
       " '700',\n",
       " '700',\n",
       " '700',\n",
       " '700',\n",
       " '700',\n",
       " '700',\n",
       " '700',\n",
       " '700',\n",
       " '700',\n",
       " '75',\n",
       " '75',\n",
       " '75',\n",
       " '75',\n",
       " '75',\n",
       " '75',\n",
       " '75',\n",
       " '75',\n",
       " '75',\n",
       " '75',\n",
       " '75',\n",
       " '75',\n",
       " '75',\n",
       " '75',\n",
       " '75',\n",
       " '75',\n",
       " '75',\n",
       " '75',\n",
       " '75',\n",
       " '75',\n",
       " '75',\n",
       " '75',\n",
       " '75',\n",
       " '75',\n",
       " '75',\n",
       " '75',\n",
       " '75',\n",
       " '75',\n",
       " '75',\n",
       " '75',\n",
       " '75',\n",
       " '75',\n",
       " '75',\n",
       " '75',\n",
       " '75',\n",
       " '75',\n",
       " '75',\n",
       " '75',\n",
       " '75',\n",
       " '75',\n",
       " '75',\n",
       " '75',\n",
       " '75',\n",
       " '75',\n",
       " ...]"
      ]
     },
     "execution_count": 24,
     "metadata": {},
     "output_type": "execute_result"
    }
   ],
   "source": [
    "data['Square Footage']"
   ]
  },
  {
   "cell_type": "code",
   "execution_count": 25,
   "metadata": {
    "collapsed": false
   },
   "outputs": [
    {
     "data": {
      "text/plain": [
       "['Agency Name',\n",
       " 'Location Name',\n",
       " 'Address',\n",
       " 'City',\n",
       " 'Zip code',\n",
       " 'County',\n",
       " 'Congress Dist',\n",
       " 'Congressional Full Name',\n",
       " 'Rep Dist',\n",
       " 'Rep Full Name',\n",
       " 'Senate Dist',\n",
       " 'Senator Full Name',\n",
       " 'Bldg Status',\n",
       " 'Year Acquired',\n",
       " 'Year Constructed',\n",
       " 'Square Footage',\n",
       " 'Total Floors',\n",
       " 'Floors Above Grade',\n",
       " 'Floors Below Grade',\n",
       " 'Usage Description',\n",
       " 'Usage Description 2',\n",
       " 'Usage Description 3']"
      ]
     },
     "execution_count": 25,
     "metadata": {},
     "output_type": "execute_result"
    }
   ],
   "source": [
    "header"
   ]
  },
  {
   "cell_type": "code",
   "execution_count": 26,
   "metadata": {
    "collapsed": true
   },
   "outputs": [],
   "source": [
    "value_types = {'Zip code' : 'int',\n",
    "               'Congress Dist': 'int',\n",
    "               'Senate Dist': 'int',\n",
    "               'Year Acquired': 'int',\n",
    "               'Year Constructed': 'int',\n",
    "               'Square Footage':'int',\n",
    " 'Total Floors':'int',\n",
    " 'Floors Above Grade':'int',\n",
    " 'Floors Below Grade':'int'}"
   ]
  },
  {
   "cell_type": "code",
   "execution_count": 27,
   "metadata": {
    "collapsed": false
   },
   "outputs": [
    {
     "name": "stdout",
     "output_type": "stream",
     "text": [
      "str\n",
      "str\n",
      "int\n",
      "str\n",
      "int\n",
      "str\n",
      "int\n",
      "str\n",
      "str\n",
      "int\n",
      "str\n",
      "int\n",
      "str\n",
      "int\n",
      "int\n",
      "int\n",
      "int\n",
      "str\n",
      "str\n",
      "str\n",
      "str\n",
      "str\n"
     ]
    }
   ],
   "source": [
    "for k in data:\n",
    "    print(value_types.get(k, 'str'))"
   ]
  },
  {
   "cell_type": "code",
   "execution_count": 28,
   "metadata": {
    "collapsed": true
   },
   "outputs": [],
   "source": [
    "for k in data:\n",
    "    data[k] = np.array(data[k], dtype=value_types.get(k, 'str'))"
   ]
  },
  {
   "cell_type": "code",
   "execution_count": 29,
   "metadata": {
    "collapsed": false
   },
   "outputs": [
    {
     "data": {
      "text/plain": [
       "{'Address': array(['Anderson Lake C.a.', 'Anderson Lake C.a.', 'Anderson Lake C.a.',\n",
       "        ..., '28261 S. Kedzie Ave.', '525 Shale Parkway',\n",
       "        '11801 S. Ridgeland Avenue'], \n",
       "       dtype='|S60'), 'Agency Name': array(['Department of Natural Resources',\n",
       "        'Department of Natural Resources',\n",
       "        'Department of Natural Resources', ...,\n",
       "        'Department of Transportation', 'Department of Transportation',\n",
       "        'Department of Transportation'], \n",
       "       dtype='|S41'), 'Bldg Status': array(['In Use', 'In Use', 'In Use', ..., 'In Use', 'In Use', 'In Use'], \n",
       "       dtype='|S11'), 'City': array(['Astoria', 'Astoria', 'Astoria', ..., 'Monee', 'Elgin', 'Worth'], \n",
       "       dtype='|S17'), 'Congress Dist': array([17, 17, 17, ...,  2,  8,  1]), 'Congressional Full Name': array(['Cheri Bustos', 'Cheri Bustos', 'Cheri Bustos', ..., 'Robin Kelly',\n",
       "        'Tammy Duckworth', 'Bobby L. Rush'], \n",
       "       dtype='|S23'), 'County': array(['Fulton', 'Fulton', 'Fulton', ..., 'Will', 'Kane', 'Cook'], \n",
       "       dtype='|S11'), 'Floors Above Grade': array([1, 1, 1, ..., 0, 0, 0]), 'Floors Below Grade': array([0, 0, 0, ..., 0, 0, 0]), 'Location Name': array(['Anderson Lake Conservation Area - Fulton County',\n",
       "        'Anderson Lake Conservation Area - Fulton County',\n",
       "        'Anderson Lake Conservation Area - Fulton County', ...,\n",
       "        'Bult Field',\n",
       "        'Elgin Maint. Bldg. (Rt. 19/Shales) \\xc2\\xa0- Kane County',\n",
       "        'Alsip Maintenance Yard - Cook County'], \n",
       "       dtype='|S66'), 'Rep Dist': array(['93', '93', '93', ..., '79', '43', '35'], \n",
       "       dtype='|S3'), 'Rep Full Name': array(['Hammond Norine', 'Hammond Norine', 'Hammond Norine', ...,\n",
       "        'Cloonen Katherine', 'Moeller Anna', 'Hurley Frances Ann'], \n",
       "       dtype='|S22'), 'Senate Dist': array([47, 47, 47, ..., 40, 22, 18]), 'Senator Full Name': array(['John M. Sullivan', 'John M. Sullivan', 'John M. Sullivan', ...,\n",
       "        'Toi W. Hutchinson', 'Michael Noland', 'Bill Cunningham'], \n",
       "       dtype='|S24'), 'Square Footage': array([  144,   144,   144, ..., 13387,  3793,  3793]), 'Total Floors': array([1, 1, 1, ..., 1, 1, 1]), 'Usage Description': array(['Unusual', 'Unusual', 'Unusual', ..., 'Utiility & Miscellan',\n",
       "        'Storage', 'Storage'], \n",
       "       dtype='|S20'), 'Usage Description 2': array(['Unusual', 'Unusual', 'Unusual', ..., '', 'Storage', 'Storage'], \n",
       "       dtype='|S20'), 'Usage Description 3': array(['Not provided', 'Not provided', 'Not provided', ..., '', '', ''], \n",
       "       dtype='|S12'), 'Year Acquired': array([1975, 2004, 2004, ..., 2014, 2016, 2016]), 'Year Constructed': array([1975, 2004, 2004, ..., 2006, 2016, 2016]), 'Zip code': array([61501, 61501, 61501, ..., 60449, 60120, 60482])}"
      ]
     },
     "execution_count": 29,
     "metadata": {},
     "output_type": "execute_result"
    }
   ],
   "source": [
    "data"
   ]
  },
  {
   "cell_type": "code",
   "execution_count": 32,
   "metadata": {
    "collapsed": false
   },
   "outputs": [
    {
     "name": "stdout",
     "output_type": "stream",
     "text": [
      "None\n"
     ]
    }
   ],
   "source": [
    "print(data.get('int'))"
   ]
  },
  {
   "cell_type": "code",
   "execution_count": 33,
   "metadata": {
    "collapsed": false
   },
   "outputs": [
    {
     "data": {
      "text/plain": [
       "array(['Abandon', 'In Progress', 'In Use'], \n",
       "      dtype='|S11')"
      ]
     },
     "execution_count": 33,
     "metadata": {},
     "output_type": "execute_result"
    }
   ],
   "source": [
    "np.unique(data['Bldg Status'])"
   ]
  },
  {
   "cell_type": "code",
   "execution_count": 34,
   "metadata": {
    "collapsed": false
   },
   "outputs": [
    {
     "data": {
      "text/plain": [
       "array([  144,   144,   144, ..., 13387,  3793,  3793])"
      ]
     },
     "execution_count": 34,
     "metadata": {},
     "output_type": "execute_result"
    }
   ],
   "source": [
    "data['Square Footage']"
   ]
  },
  {
   "cell_type": "code",
   "execution_count": 35,
   "metadata": {
    "collapsed": false
   },
   "outputs": [
    {
     "data": {
      "text/plain": [
       "['__class__',\n",
       " '__cmp__',\n",
       " '__contains__',\n",
       " '__delattr__',\n",
       " '__delitem__',\n",
       " '__doc__',\n",
       " '__eq__',\n",
       " '__format__',\n",
       " '__ge__',\n",
       " '__getattribute__',\n",
       " '__getitem__',\n",
       " '__gt__',\n",
       " '__hash__',\n",
       " '__init__',\n",
       " '__iter__',\n",
       " '__le__',\n",
       " '__len__',\n",
       " '__lt__',\n",
       " '__ne__',\n",
       " '__new__',\n",
       " '__reduce__',\n",
       " '__reduce_ex__',\n",
       " '__repr__',\n",
       " '__setattr__',\n",
       " '__setitem__',\n",
       " '__sizeof__',\n",
       " '__str__',\n",
       " '__subclasshook__',\n",
       " 'clear',\n",
       " 'copy',\n",
       " 'fromkeys',\n",
       " 'get',\n",
       " 'has_key',\n",
       " 'items',\n",
       " 'iteritems',\n",
       " 'iterkeys',\n",
       " 'itervalues',\n",
       " 'keys',\n",
       " 'pop',\n",
       " 'popitem',\n",
       " 'setdefault',\n",
       " 'update',\n",
       " 'values',\n",
       " 'viewitems',\n",
       " 'viewkeys',\n",
       " 'viewvalues']"
      ]
     },
     "execution_count": 35,
     "metadata": {},
     "output_type": "execute_result"
    }
   ],
   "source": [
    "dir(value_types)"
   ]
  },
  {
   "cell_type": "code",
   "execution_count": 39,
   "metadata": {
    "collapsed": true
   },
   "outputs": [],
   "source": [
    "def filter_equals(inp, column, value):\n",
    "    output = {}\n",
    "    good = inp[column] == value\n",
    "    for k in inp:\n",
    "        output[k] = inp[k][good]\n",
    "    return output"
   ]
  },
  {
   "cell_type": "code",
   "execution_count": 42,
   "metadata": {
    "collapsed": false
   },
   "outputs": [],
   "source": [
    "picnic_shelters = filter_equals(data, 'Square Footage', 144)"
   ]
  },
  {
   "cell_type": "code",
   "execution_count": 43,
   "metadata": {
    "collapsed": false
   },
   "outputs": [
    {
     "data": {
      "text/plain": [
       "360"
      ]
     },
     "execution_count": 43,
     "metadata": {},
     "output_type": "execute_result"
    }
   ],
   "source": [
    "picnic_shelter['Year Constructed'].size"
   ]
  },
  {
   "cell_type": "code",
   "execution_count": 44,
   "metadata": {
    "collapsed": false
   },
   "outputs": [
    {
     "data": {
      "text/plain": [
       "array(['Department of Corrections', 'Department of Human Services',\n",
       "       'Department of Military Affairs', 'Department of Natural Resources',\n",
       "       'Department of State Police', 'Department of Transportation',\n",
       "       'Historic Preservation Agency', 'Southern Illinois University'], \n",
       "      dtype='|S41')"
      ]
     },
     "execution_count": 44,
     "metadata": {},
     "output_type": "execute_result"
    }
   ],
   "source": [
    "np.unique(picnic_shelters['Agency Name'])"
   ]
  },
  {
   "cell_type": "code",
   "execution_count": 45,
   "metadata": {
    "collapsed": true
   },
   "outputs": [],
   "source": [
    "picnic_shelters = filter_equals(filter_equals(data, 'Square Footage', 144),'Agency Name', 'Department of Natural Resources'\n",
    "                               )"
   ]
  },
  {
   "cell_type": "code",
   "execution_count": 46,
   "metadata": {
    "collapsed": false
   },
   "outputs": [
    {
     "name": "stderr",
     "output_type": "stream",
     "text": [
      "/Users/arpitgarg/anaconda2/lib/python2.7/site-packages/matplotlib/font_manager.py:273: UserWarning: Matplotlib is building the font cache using fc-list. This may take a moment.\n",
      "  warnings.warn('Matplotlib is building the font cache using fc-list. This may take a moment.')\n"
     ]
    }
   ],
   "source": [
    "%matplotlib inline"
   ]
  },
  {
   "cell_type": "code",
   "execution_count": 47,
   "metadata": {
    "collapsed": true
   },
   "outputs": [],
   "source": [
    "import matplotlib.pyplot as plt"
   ]
  },
  {
   "cell_type": "code",
   "execution_count": 48,
   "metadata": {
    "collapsed": false
   },
   "outputs": [
    {
     "data": {
      "text/plain": [
       "[<matplotlib.lines.Line2D at 0x10b2adc10>]"
      ]
     },
     "execution_count": 48,
     "metadata": {},
     "output_type": "execute_result"
    },
    {
     "data": {
      "image/png": "[encoded data removed]",
      "text/plain": [
       "<matplotlib.figure.Figure at 0x10aff31d0>"
      ]
     },
     "metadata": {},
     "output_type": "display_data"
    }
   ],
   "source": [
    "plt.plot(picnic_shelters['Year Acquired'], picnic_shelters['Year Constructed'])"
   ]
  },
  {
   "cell_type": "code",
   "execution_count": 49,
   "metadata": {
    "collapsed": true
   },
   "outputs": [],
   "source": [
    "def filter_gt(inp, column, value):\n",
    "    output = {}\n",
    "    good = inp[column] > value\n",
    "    for k in inp:\n",
    "        output[k] = inp[k][good]\n",
    "    return output"
   ]
  },
  {
   "cell_type": "code",
   "execution_count": 50,
   "metadata": {
    "collapsed": true
   },
   "outputs": [],
   "source": [
    "picnic_shelters = filter_gt(filter_gt(data, 'Year Acquired', 0),'Year Constructed', 0)"
   ]
  },
  {
   "cell_type": "code",
   "execution_count": 51,
   "metadata": {
    "collapsed": false
   },
   "outputs": [
    {
     "data": {
      "text/plain": [
       "[<matplotlib.lines.Line2D at 0x10e346310>]"
      ]
     },
     "execution_count": 51,
     "metadata": {},
     "output_type": "execute_result"
    },
    {
     "data": {
      "image/png": "[encoded data removed]",
      "text/plain": [
       "<matplotlib.figure.Figure at 0x10b2dc710>"
      ]
     },
     "metadata": {},
     "output_type": "display_data"
    }
   ],
   "source": [
    "plt.plot(picnic_shelters['Year Acquired'], picnic_shelters['Year Constructed'], 'og')"
   ]
  },
  {
   "cell_type": "code",
   "execution_count": 52,
   "metadata": {
    "collapsed": false
   },
   "outputs": [
    {
     "data": {
      "text/plain": [
       "8849"
      ]
     },
     "execution_count": 52,
     "metadata": {},
     "output_type": "execute_result"
    }
   ],
   "source": [
    "len(data['Year Acquired'])"
   ]
  },
  {
   "cell_type": "code",
   "execution_count": 56,
   "metadata": {
    "collapsed": false
   },
   "outputs": [
    {
     "data": {
      "text/plain": [
       "1753"
      ]
     },
     "execution_count": 56,
     "metadata": {},
     "output_type": "execute_result"
    }
   ],
   "source": [
    "min(picnic_shelters['Year Acquired'])"
   ]
  },
  {
   "cell_type": "code",
   "execution_count": null,
   "metadata": {
    "collapsed": true
   },
   "outputs": [],
   "source": []
  }
 ],
 "metadata": {
  "anaconda-cloud": {},
  "kernelspec": {
   "display_name": "Python [default]",
   "language": "python",
   "name": "python2"
  },
  "language_info": {
   "codemirror_mode": {
    "name": "ipython",
    "version": 2
   },
   "file_extension": ".py",
   "mimetype": "text/x-python",
   "name": "python",
   "nbconvert_exporter": "python",
   "pygments_lexer": "ipython2",
   "version": "2.7.12"
  }
 },
 "nbformat": 4,
 "nbformat_minor": 1
}
